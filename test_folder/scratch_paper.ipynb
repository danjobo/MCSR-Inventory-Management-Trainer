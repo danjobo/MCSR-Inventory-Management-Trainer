{
 "cells": [
  {
   "cell_type": "code",
   "execution_count": 10,
   "metadata": {},
   "outputs": [
    {
     "name": "stdout",
     "output_type": "stream",
     "text": [
      "0\n",
      "0.0\n"
     ]
    }
   ],
   "source": [
    "num1 = int()\n",
    "num2 = float()\n",
    "print(num1)\n",
    "print(num2)"
   ]
  },
  {
   "cell_type": "code",
   "execution_count": 23,
   "metadata": {},
   "outputs": [
    {
     "name": "stdout",
     "output_type": "stream",
     "text": [
      "3\n",
      "0\n"
     ]
    }
   ],
   "source": [
    "class Point:\n",
    "    x = 0\n",
    "    y = 0\n",
    "    'class that represents points in the plane'\n",
    "    def setx(self, xcoord):\n",
    "        'set x coordinate of point to xcoord'\n",
    "        self.x = xcoord\n",
    "    def sety(self, ycoord):\n",
    "        'set y coordinate of point to ycoord'\n",
    "        self.y = ycoord\n",
    "    def get(self):\n",
    "        'return a tuple with x and y coordinates of the point'\n",
    "        return (self.x, self.y)\n",
    "    def getx(self):\n",
    "        'return the x coordinate of the point'\n",
    "        return self.x\n",
    "    def gety(self):\n",
    "        'return the y coordinate of the point'\n",
    "        return self.y\n",
    "    def move(self, dx, dy):\n",
    "        'change the x and y coordinates by dx and dy'\n",
    "        self.x += dx\n",
    "        self.y += dy\n",
    "\n",
    "a = Point()\n",
    "a.x = 3\n",
    "print(Point.getx(a))\n",
    "print(Point.gety(a))"
   ]
  },
  {
   "cell_type": "code",
   "execution_count": 26,
   "metadata": {},
   "outputs": [
    {
     "name": "stdout",
     "output_type": "stream",
     "text": [
      "64\n",
      "32\n",
      "1\n"
     ]
    }
   ],
   "source": [
    "items = {'bread':'img','apple':'img'}\n",
    "class Item:\n",
    "    'class that represents an item'\n",
    "    section = 'inventory'\n",
    "    x = 0\n",
    "    y = 0\n",
    "    count = 1\n",
    "    def half(self):\n",
    "        'halves the count of item'\n",
    "        self.count //= 2\n",
    "    def setcount(self,num):\n",
    "        'sets the count of an item'\n",
    "        self.count = num\n",
    "    def getcount(self):\n",
    "        'gets the count of an item'\n",
    "        return self.count\n",
    "    def setslot(self,xcoord: int,ycoord: int,section: str = 'inventory'):\n",
    "        'sets the slot of an item'\n",
    "        if section == 'inventory':\n",
    "            self.section = 'inventory'\n",
    "            self.x = xcoord\n",
    "            self.y = ycoord\n",
    "        elif section == 'offhand':\n",
    "            self.section = 'offhand'\n",
    "            self.x = xcoord\n",
    "            self.y = ycoord\n",
    "        elif section == 'hotbar':\n",
    "            self.section = 'hotbar'\n",
    "            self.x = xcoord\n",
    "            self.y = ycoord\n",
    "        elif section == 'armor':\n",
    "            self.section = 'armor'\n",
    "            self.x = xcoord\n",
    "            self.y = ycoord\n",
    "        else:\n",
    "            print('Error: Invalid Section Name')\n",
    "    def getslot(self):\n",
    "        return (self.section, (self.x, self.y))\n",
    "\n",
    "\n",
    "apple = Item()\n",
    "apple.setcount(64)\n",
    "print(apple.getcount())\n",
    "apple.half()\n",
    "print(apple.getcount())\n",
    "\n",
    "apple.setslot(0,3,'hotbar')\n",
    "\n",
    "bread = Item()\n",
    "print(bread.getcount())\n"
   ]
  },
  {
   "cell_type": "code",
   "execution_count": 39,
   "metadata": {},
   "outputs": [
    {
     "name": "stdout",
     "output_type": "stream",
     "text": [
      "1.02\n",
      "1.02\n",
      "1.02\n",
      "1.03\n",
      "Latest!\n",
      "Latest!\n",
      "Latest!\n",
      "1.05\n",
      "Latest!\n",
      "Latest!\n"
     ]
    }
   ],
   "source": [
    "# 8.2\n",
    "class Test:\n",
    "    version = 1.02\n",
    "\n",
    "a = Test()\n",
    "b = Test()\n",
    "print(a.version)\n",
    "print(b.version)\n",
    "\n",
    "print(Test.version)\n",
    "\n",
    "Test.version = 1.03\n",
    "print(Test.version)\n",
    "\n",
    "Test.version = 'Latest!'\n",
    "print(Test.version)\n",
    "print(a.version)\n",
    "print(b.version)\n",
    "\n",
    "a.version = 1.05\n",
    "print(a.version)\n",
    "print(b.version)\n",
    "print(Test.version)"
   ]
  },
  {
   "cell_type": "code",
   "execution_count": 45,
   "metadata": {},
   "outputs": [
    {
     "name": "stdout",
     "output_type": "stream",
     "text": [
      "1.02\n",
      "\n",
      "1.02\n",
      "1.02\n",
      "1.03\n",
      "1.02\n",
      "\n",
      "1.02\n",
      "1.03\n",
      "1.02\n",
      "1.1\n",
      "1.03\n",
      "1.1\n",
      "\n",
      "1.03\n",
      "1.1\n",
      "1.1\n",
      "1.1\n",
      "1.1\n",
      "1.1\n"
     ]
    }
   ],
   "source": [
    "class Test:\n",
    "    version = 1.02\n",
    "\n",
    "    def changeClassVersion(self,ver):\n",
    "        Test.version = ver\n",
    "    \n",
    "    def changeSelfVersion(self,ver):\n",
    "        self.version = ver\n",
    "\n",
    "    def delSelfVersion(self):\n",
    "        del self.version\n",
    "\n",
    "print(Test.version)\n",
    "\n",
    "print()\n",
    "\n",
    "a = Test()\n",
    "print(a.version)\n",
    "print(Test.version)\n",
    "a.changeSelfVersion(1.03)\n",
    "print(a.version)\n",
    "print(Test.version)\n",
    "\n",
    "print()\n",
    "\n",
    "b = Test()\n",
    "print(b.version)\n",
    "print(a.version)\n",
    "print(Test.version)\n",
    "b.changeClassVersion(1.10)\n",
    "print(b.version)\n",
    "print(a.version)\n",
    "print(Test.version)\n",
    "\n",
    "print()\n",
    "print(a.version)\n",
    "print(b.version)\n",
    "print(Test.version)\n",
    "a.delSelfVersion()\n",
    "print(a.version)\n",
    "print(b.version)\n",
    "print(Test.version)"
   ]
  },
  {
   "cell_type": "code",
   "execution_count": 47,
   "metadata": {},
   "outputs": [
    {
     "name": "stdout",
     "output_type": "stream",
     "text": [
      "I am a dog and I bark.\n"
     ]
    }
   ],
   "source": [
    "class Animal:\n",
    "    'Represents an animal'\n",
    "\n",
    "    def setSpecies(self,species):\n",
    "        'sets the animal species'\n",
    "        self.spec = species\n",
    "\n",
    "    def setLanguage(self,language):\n",
    "        'sets the animal language'\n",
    "        self.lang = language\n",
    "\n",
    "    def speak(self):\n",
    "        'prints a sentence by the animal'\n",
    "        print('I am a {} and I {}.'.format(self.spec, self.lang))\n",
    "\n",
    "snoopy = Animal()\n",
    "snoopy.setSpecies('dog')\n",
    "snoopy.setLanguage('bark')\n",
    "snoopy.speak()"
   ]
  },
  {
   "cell_type": "code",
   "execution_count": 53,
   "metadata": {},
   "outputs": [
    {
     "name": "stdout",
     "output_type": "stream",
     "text": [
      "3\n",
      "4\n",
      "14\n",
      "12\n"
     ]
    }
   ],
   "source": [
    "# 8.3\n",
    "class Rectangle:\n",
    "    'stores a rectangle'\n",
    "    w = 0\n",
    "    l = 0\n",
    "\n",
    "    def __new__(cls, *args, **kwargs):\n",
    "        return super().__new__(cls)\n",
    "\n",
    "    def __init__(self, width, length):\n",
    "        self.w = width\n",
    "        self.l = length\n",
    "\n",
    "    def setSize(self, width, length):\n",
    "        '''Takes two number values as input and sets the length and \n",
    "        width of the rectangle'''\n",
    "        self.w = width\n",
    "        self.l = length\n",
    "\n",
    "    def perimeter(self):\n",
    "        'Returns the perimeter of the rectangle'\n",
    "        return (self.w*2)+(self.l*2)\n",
    "    \n",
    "    def area(self):\n",
    "        'Returns the area of the rectangle'\n",
    "        return self.w*self.l\n",
    "\n",
    "rectangle = Rectangle(3,4)\n",
    "print(rectangle.w)\n",
    "print(rectangle.l)\n",
    "print(rectangle.perimeter())\n",
    "print(rectangle.area())"
   ]
  },
  {
   "cell_type": "code",
   "execution_count": 59,
   "metadata": {},
   "outputs": [
    {
     "name": "stdout",
     "output_type": "stream",
     "text": [
      "0\n",
      "3\n"
     ]
    }
   ],
   "source": [
    "class Rectangle:\n",
    "    'stores a rectangle'\n",
    "\n",
    "    def __init__(self, width=0, length=0):\n",
    "        self.w = width\n",
    "        self.l = length\n",
    "\n",
    "rectangle = Rectangle(length=3)\n",
    "print(rectangle.w)\n",
    "print(rectangle.l)"
   ]
  },
  {
   "cell_type": "code",
   "execution_count": 80,
   "metadata": {},
   "outputs": [
    {
     "ename": "TypeError",
     "evalue": "Rectangle.__init__() missing 2 required positional arguments: 'width' and 'length'",
     "output_type": "error",
     "traceback": [
      "\u001b[0;31m---------------------------------------------------------------------------\u001b[0m",
      "\u001b[0;31mTypeError\u001b[0m                                 Traceback (most recent call last)",
      "Cell \u001b[0;32mIn[80], line 8\u001b[0m\n\u001b[1;32m      5\u001b[0m         \u001b[39mself\u001b[39m\u001b[39m.\u001b[39mw \u001b[39m=\u001b[39m width\n\u001b[1;32m      6\u001b[0m         \u001b[39mself\u001b[39m\u001b[39m.\u001b[39ml \u001b[39m=\u001b[39m length\n\u001b[0;32m----> 8\u001b[0m rectangle \u001b[39m=\u001b[39m Rectangle()\n\u001b[1;32m      9\u001b[0m \u001b[39mprint\u001b[39m(rectangle\u001b[39m.\u001b[39mw)\n\u001b[1;32m     10\u001b[0m \u001b[39mprint\u001b[39m(rectangle\u001b[39m.\u001b[39ml)\n",
      "\u001b[0;31mTypeError\u001b[0m: Rectangle.__init__() missing 2 required positional arguments: 'width' and 'length'"
     ]
    }
   ],
   "source": [
    "class Rectangle:\n",
    "    'stores a rectangle'\n",
    "\n",
    "    def __init__(self, width, length):\n",
    "        self.w = width\n",
    "        self.l = length\n",
    "\n",
    "rectangle = Rectangle()\n",
    "print(rectangle.w)\n",
    "print(rectangle.l)"
   ]
  },
  {
   "cell_type": "code",
   "execution_count": 63,
   "metadata": {},
   "outputs": [],
   "source": [
    "# 8.4\n",
    "class Animal:\n",
    "    'Represents an animal'\n",
    "\n",
    "    def __init__(self,species='animal',language='sounds'):\n",
    "        self.spec = species\n",
    "        self.lang = language\n",
    "\n",
    "    def setSpecies(self,species):\n",
    "        'sets the animal species'\n",
    "        self.spec = species\n",
    "\n",
    "    def setLanguage(self,language):\n",
    "        'sets the animal language'\n",
    "        self.lang = language\n",
    "\n",
    "    def speak(self):\n",
    "        'prints a sentence by the animal'\n",
    "        print('I am a {} and I {}.'.format(self.spec, self.lang))"
   ]
  },
  {
   "cell_type": "code",
   "execution_count": 64,
   "metadata": {},
   "outputs": [],
   "source": [
    "from random import shuffle\n",
    "\n",
    "class Card:\n",
    "    'represents a playing card'\n",
    "\n",
    "    def __init__(self, rank, suit):\n",
    "        'initialize rank and suit of playing card'\n",
    "        self.rank = rank\n",
    "        self.suit = suit\n",
    "    \n",
    "    def getRank(self):\n",
    "        'return rank'\n",
    "        return self.rank\n",
    "    \n",
    "    def getSuit(self):\n",
    "        'return suit'\n",
    "        return self.suit\n",
    "    \n",
    "\n",
    "\n",
    "class Deck:\n",
    "    'represents a deck of 52 cards'\n",
    "\n",
    "    # ranks and suits are Deck class variables\n",
    "    ranks = {'2','3','4','5','6','7','8','9','10','J','Q','A'}\n",
    "\n",
    "    # suits is a set of 4 Unicode symbols representing the 4 suits\n",
    "    suits = {'\\u2660','\\u2661','\\u2662','\\u2663'}\n",
    "\n",
    "    def __init__(self):\n",
    "        'initialize deck of 52 cards'\n",
    "        self.deck = []      # deck is initially empty\n",
    "\n",
    "        for suit in Deck.suits:       # suits and ranks are Deck\n",
    "            for rank in Deck.ranks:   # class variables\n",
    "                # add Card with given rank and suit to deck\n",
    "                self.deck.append(Card(rank,suit))\n",
    "    \n",
    "    def dealCard(self):\n",
    "        'deal (pop and return) card from the top of the deck'\n",
    "        return self.deck.pop()\n",
    "    \n",
    "    def shuffle(self):\n",
    "        'shuffle the deck'\n",
    "        shuffle(self.deck)"
   ]
  },
  {
   "cell_type": "code",
   "execution_count": 71,
   "metadata": {},
   "outputs": [
    {
     "name": "stdout",
     "output_type": "stream",
     "text": [
      "1\n",
      "2\n"
     ]
    }
   ],
   "source": [
    "# 8.5\n",
    "\n",
    "from random import shuffle\n",
    "\n",
    "class Card:\n",
    "    'represents a playing card'\n",
    "\n",
    "    def __init__(self, rank, suit):\n",
    "        'initialize rank and suit of playing card'\n",
    "        self.rank = rank\n",
    "        self.suit = suit\n",
    "    \n",
    "    def getRank(self):\n",
    "        'return rank'\n",
    "        return self.rank\n",
    "    \n",
    "    def getSuit(self):\n",
    "        'return suit'\n",
    "        return self.suit\n",
    "    \n",
    "\n",
    "\n",
    "class Deck:\n",
    "    'represents a deck of 52 cards'\n",
    "\n",
    "    # ranks and suits are Deck class variables\n",
    "    ranks = {'2','3','4','5','6','7','8','9','10','J','Q','A'}\n",
    "\n",
    "    # suits is a set of 4 Unicode symbols representing the 4 suits\n",
    "    suits = {'\\u2660','\\u2661','\\u2662','\\u2663'}\n",
    "\n",
    "    def __init__(self, deck = []):\n",
    "        'initialize deck of 52 cards'\n",
    "        self.deck = deck\n",
    "        if deck == []:\n",
    "            for suit in Deck.suits:       # suits and ranks are Deck\n",
    "                for rank in Deck.ranks:   # class variables\n",
    "                    # add Card with given rank and suit to deck\n",
    "                    self.deck.append(Card(rank,suit))\n",
    "    def dealCard(self):\n",
    "        'deal (pop and return) card from the top of the deck'\n",
    "        return self.deck.pop()\n",
    "    \n",
    "    def shuffle(self):\n",
    "        'shuffle the deck'\n",
    "        shuffle(self.deck)\n",
    "\n",
    "deck = Deck(['1','2','3','4'])\n",
    "deck.shuffle()\n",
    "print(deck.dealCard())\n",
    "print(deck.dealCard())"
   ]
  },
  {
   "cell_type": "code",
   "execution_count": 1,
   "metadata": {},
   "outputs": [
    {
     "name": "stdout",
     "output_type": "stream",
     "text": [
      "['Stefanie']\n",
      "['Stefanie', 'Robin', 'Robret']\n",
      "Stefanie\n",
      "['Robin', 'Robret']\n",
      "Robin\n",
      "['Robret']\n",
      "Robret\n",
      "[]\n"
     ]
    }
   ],
   "source": [
    "class Queue:\n",
    "    'a classic queue class'\n",
    "\n",
    "    def __init__(self):\n",
    "        'instantiates an empty list that will contain queue items'\n",
    "        self.q = []\n",
    "    \n",
    "    def isEmpty(self):\n",
    "        'Returns True if queue is empty, False otherwise'\n",
    "        return (len(self.q) == 0)\n",
    "    \n",
    "    def enqueue(self, item):\n",
    "        'insert item at rear of queue'\n",
    "        return self.q.append(item)\n",
    "    \n",
    "    def dequeue(self):\n",
    "        'remove and return item at front of queue'\n",
    "        return self.q.pop(0)\n",
    "    \n",
    "    def get(self):\n",
    "        'get a copy of the current queue state'\n",
    "        return self.q\n",
    "    \n",
    "starbucksLine = Queue()\n",
    "starbucksLine.enqueue('Stefanie')\n",
    "print(starbucksLine.get())\n",
    "starbucksLine.enqueue('Robin')\n",
    "starbucksLine.enqueue('Robret')\n",
    "print(starbucksLine.get())\n",
    "print(starbucksLine.dequeue())\n",
    "print(starbucksLine.get())\n",
    "print(starbucksLine.dequeue())\n",
    "print(starbucksLine.get())\n",
    "print(starbucksLine.dequeue())\n",
    "print(starbucksLine.get())"
   ]
  },
  {
   "cell_type": "code",
   "execution_count": 1,
   "metadata": {},
   "outputs": [
    {
     "name": "stdout",
     "output_type": "stream",
     "text": [
      "{'a': 5, 'b': 4}\n"
     ]
    }
   ],
   "source": [
    "test = {'a':1,'b':4}\n",
    "test['a'] += 4\n",
    "print(test)"
   ]
  },
  {
   "cell_type": "code",
   "execution_count": 5,
   "metadata": {},
   "outputs": [
    {
     "name": "stdout",
     "output_type": "stream",
     "text": [
      "{'a': 5, 'b': 4}\n"
     ]
    }
   ],
   "source": [
    "test = {'a':1,'b':4}\n",
    "if 'a' in test:\n",
    "  test['a'] += 4\n",
    "else:\n",
    "  test.update({'c':4})\n",
    "print(test)"
   ]
  },
  {
   "cell_type": "code",
   "execution_count": 7,
   "metadata": {},
   "outputs": [],
   "source": [
    "for i in range(0):\n",
    "    print('hi')\n",
    "    "
   ]
  },
  {
   "cell_type": "code",
   "execution_count": 11,
   "metadata": {},
   "outputs": [
    {
     "name": "stdout",
     "output_type": "stream",
     "text": [
      "3\n"
     ]
    }
   ],
   "source": [
    "from fractions import Fraction\n",
    "\n",
    "a = Fraction(3,4)\n",
    "print(a.numerator)"
   ]
  },
  {
   "cell_type": "code",
   "execution_count": 16,
   "metadata": {},
   "outputs": [
    {
     "name": "stdout",
     "output_type": "stream",
     "text": [
      "[0, 0, 0]\n"
     ]
    }
   ],
   "source": [
    "lst = [0]*3\n",
    "print(lst)"
   ]
  },
  {
   "cell_type": "code",
   "execution_count": 19,
   "metadata": {},
   "outputs": [
    {
     "name": "stdout",
     "output_type": "stream",
     "text": [
      "[0, 1, 2, 3, 4, 5, 'a', 'a', 'a', 'a', 'a']\n"
     ]
    }
   ],
   "source": [
    "lst = [0,1,2,3,4,5]\n",
    "lst.extend(['a']*5)\n",
    "print(lst)"
   ]
  },
  {
   "cell_type": "code",
   "execution_count": 1,
   "metadata": {},
   "outputs": [
    {
     "name": "stdout",
     "output_type": "stream",
     "text": [
      "7\n",
      "7/10\n"
     ]
    }
   ],
   "source": [
    "from fractions import Fraction\n",
    "c = Fraction(70,100)\n",
    "print(c.numerator)\n",
    "print(c.real)"
   ]
  },
  {
   "cell_type": "code",
   "execution_count": 1,
   "metadata": {},
   "outputs": [
    {
     "name": "stdout",
     "output_type": "stream",
     "text": [
      "4\n"
     ]
    }
   ],
   "source": [
    "import javarandom as jr\n",
    "\n",
    "randomInst = jr.Random()\n",
    "\n",
    "print(randomInst.nextInt(5))"
   ]
  },
  {
   "cell_type": "code",
   "execution_count": 1,
   "metadata": {},
   "outputs": [
    {
     "name": "stdout",
     "output_type": "stream",
     "text": [
      "4\n",
      "3\n",
      "2\n",
      "1\n",
      "0\n"
     ]
    }
   ],
   "source": [
    "for i in range(4,-1,-1):\n",
    "    print(i)"
   ]
  },
  {
   "cell_type": "code",
   "execution_count": 20,
   "metadata": {},
   "outputs": [],
   "source": [
    "class RenderObject:\n",
    "    'represents a rendered object on the screen'\n",
    "\n",
    "    def __init__(self, image, x:int=0, y:int=0, hidden=False):\n",
    "        ''\n",
    "        self.setImage(image)\n",
    "        self.setX(x)\n",
    "        self.setY(y)\n",
    "        self.setHidden(hidden)\n",
    "    \n",
    "    def setImage(self, image):\n",
    "        ''\n",
    "        self.__image = image\n",
    "\n",
    "    def setX(self, x):\n",
    "        ''\n",
    "        self.x = x\n",
    "        \n",
    "    \n",
    "    def setY(self, y):\n",
    "        ''\n",
    "        self.y = y\n",
    "\n",
    "    def setHidden(self,hidden):\n",
    "        ''\n",
    "        self.hidden = hidden\n",
    "\n",
    "    def getImage(self):\n",
    "        ''\n",
    "        return self.__image\n",
    "\n",
    "    def getX(self):\n",
    "        ''\n",
    "        return self.x\n",
    "    \n",
    "    def getY(self):\n",
    "        ''\n",
    "        return self.y\n",
    "    \n",
    "    def getHidden(self):\n",
    "        ''\n",
    "        return self.hidden"
   ]
  },
  {
   "cell_type": "code",
   "execution_count": 13,
   "metadata": {},
   "outputs": [
    {
     "ename": "ValueError",
     "evalue": "invalid literal for int() with base 10: 'bababooey'",
     "output_type": "error",
     "traceback": [
      "\u001b[0;31m---------------------------------------------------------------------------\u001b[0m",
      "\u001b[0;31mValueError\u001b[0m                                Traceback (most recent call last)",
      "Cell \u001b[0;32mIn[13], line 2\u001b[0m\n\u001b[1;32m      1\u001b[0m \u001b[39mint\u001b[39m(\u001b[39m0x117978590\u001b[39m)\n\u001b[0;32m----> 2\u001b[0m \u001b[39mint\u001b[39;49m(\u001b[39m'\u001b[39;49m\u001b[39mbababooey\u001b[39;49m\u001b[39m'\u001b[39;49m)\n",
      "\u001b[0;31mValueError\u001b[0m: invalid literal for int() with base 10: 'bababooey'"
     ]
    }
   ],
   "source": [
    "int(0x117978590)\n",
    "int('bababooey')"
   ]
  },
  {
   "cell_type": "code",
   "execution_count": 22,
   "metadata": {},
   "outputs": [
    {
     "name": "stdout",
     "output_type": "stream",
     "text": [
      "False\n",
      "True\n",
      "<class '__main__.RenderObject'>\n"
     ]
    }
   ],
   "source": [
    "def validConstructor(argument, constructor):\n",
    "        try:\n",
    "            constructor(argument)\n",
    "            return True\n",
    "        except:\n",
    "            return False\n",
    "        \n",
    "\n",
    "a = RenderObject('apple',0,0)\n",
    "print(validConstructor('bababooey',int))\n",
    "print(validConstructor(0x117978590,int))\n",
    "print(type(a))"
   ]
  },
  {
   "cell_type": "code",
   "execution_count": null,
   "metadata": {},
   "outputs": [
    {
     "ename": "",
     "evalue": "",
     "output_type": "error",
     "traceback": [
      "\u001b[1;31mRunning cells with 'c:\\msys64\\mingw64\\bin\\python.exe' requires the ipykernel package.\n",
      "\u001b[1;31mRun the following command to install 'ipykernel' into the Python environment. \n",
      "\u001b[1;31mCommand: 'c:/msys64/mingw64/bin/python.exe -m pip install ipykernel -U --user --force-reinstall'"
     ]
    }
   ],
   "source": [
    "a = RenderObject('apple',0,0)\n",
    "str(type(a)).split('.')[1].rstrip(\"'>\")"
   ]
  },
  {
   "cell_type": "code",
   "execution_count": 1,
   "metadata": {},
   "outputs": [
    {
     "name": "stdout",
     "output_type": "stream",
     "text": [
      "Bababooey\n",
      "Bababingy\n",
      "Bababooey\n",
      "0\n",
      "seventy-five\n"
     ]
    }
   ],
   "source": [
    "def func1():\n",
    "    print('Bababooey')\n",
    "\n",
    "def func2():\n",
    "    print('Bababingy')\n",
    "\n",
    "lst = [func1, func2, func1, 0, 'seventy-five']\n",
    "\n",
    "for item in lst:\n",
    "    if str(type(item)) == \"<class 'function'>\":\n",
    "        item()\n",
    "    else:\n",
    "        print(item)"
   ]
  },
  {
   "cell_type": "code",
   "execution_count": 7,
   "metadata": {},
   "outputs": [],
   "source": [
    "numba = 5\n",
    "stwing = 'binga'\n",
    "lst = [1,2,3]\n",
    "dici = {'a':1,'b':2,'c':3}\n",
    "\n",
    "class FunkyTown:\n",
    "    def __init__(self,arg):\n",
    "        ''\n",
    "        self.value = arg\n"
   ]
  },
  {
   "cell_type": "code",
   "execution_count": 1,
   "metadata": {},
   "outputs": [
    {
     "data": {
      "text/plain": [
       "0"
      ]
     },
     "execution_count": 1,
     "metadata": {},
     "output_type": "execute_result"
    }
   ],
   "source": [
    "class Tile:\n",
    "    def __init__(self,name,value,suit):\n",
    "        self.name = name\n",
    "        self.value = value\n",
    "        self.suit = suit\n",
    "\n",
    "    def __repr__(self):\n",
    "        return self.name\n",
    "    \n",
    "\n",
    "class Deck(list):\n",
    "    def __init__(self, lst):\n",
    "        self.lst = lst\n",
    "    \n",
    "    def index(self,suit,value):\n",
    "        for i,item in enumerate(self.lst):\n",
    "            if item.suit == suit and item.value == value:\n",
    "                return i\n",
    "\n",
    "\n",
    "\n",
    "lst = [Tile('1 of Man',1,'Man'),Tile('2 of Man',2,'Man')]\n",
    "mydeck = Deck(lst)\n",
    "mydeck.index('Man',1)"
   ]
  },
  {
   "cell_type": "code",
   "execution_count": 20,
   "metadata": {},
   "outputs": [
    {
     "name": "stdout",
     "output_type": "stream",
     "text": [
      "<__main__.SpecialClass object at 0x000002536954ECE0>\n",
      "67\n",
      "cawwot\n",
      "carrot: 0x2536946a730\n",
      "{'apple': 67, 'banana': <__main__.SpecialClass object at 0x000002536954ECE0>, 'carrot': 'cawwot'}\n",
      "10\n",
      "[67, <__main__.SpecialClass object at 0x000002536954ECE0>, 'cawwot']\n",
      "10\n",
      "\n",
      "<__main__.SpecialClass object at 0x000002536954ECE0>\n",
      "62\n",
      "carrot: 0x2536a8478f0\n",
      "{'apple': 67, 'banana': <__main__.SpecialClass object at 0x000002536954ECE0>, 'carrot': 'cawwot'}\n",
      "2\n",
      "[67, <__main__.SpecialClass object at 0x000002536954ECE0>, 'cawwot']\n",
      "2\n"
     ]
    }
   ],
   "source": [
    "class SpecialClass:\n",
    "    def __init__(self,numba):\n",
    "        self.numba = numba\n",
    "\n",
    "    def getNumba(self):\n",
    "        return self.numba\n",
    "\n",
    "banana = SpecialClass(10)\n",
    "print(banana)\n",
    "\n",
    "dici = {}\n",
    "lst = []\n",
    "\n",
    "apple = 67\n",
    "print(apple)\n",
    "\n",
    "carrot = 'cawwot'\n",
    "print(carrot)\n",
    "print(f'carrot: {hex(id(carrot))}')\n",
    "\n",
    "dici.update({'apple':apple,'banana':banana,'carrot':carrot})\n",
    "lst.extend([apple,banana,carrot])\n",
    "\n",
    "print(dici)\n",
    "print(dici['banana'].numba)\n",
    "print(lst)\n",
    "print(lst[1].numba)\n",
    "print()\n",
    "\n",
    "\n",
    "banana.numba = 2\n",
    "print(banana)\n",
    "apple -= 5\n",
    "print(apple)\n",
    "carrot = 'kawwot'\n",
    "print(f'carrot: {hex(id(carrot))}')\n",
    "\n",
    "print(dici)\n",
    "print(dici['banana'].numba)\n",
    "print(lst)\n",
    "print(lst[1].numba)"
   ]
  },
  {
   "cell_type": "code",
   "execution_count": 1,
   "metadata": {},
   "outputs": [
    {
     "name": "stdout",
     "output_type": "stream",
     "text": [
      "0x1ddccfcb100\n",
      "\n",
      "0x1ddccfcb100\n"
     ]
    }
   ],
   "source": [
    "lst = ['baba','booey','binga','boonga']\n",
    "print(hex(id(lst)))\n",
    "print()\n",
    "\n",
    "lst.append('gibby')\n",
    "print(hex(id(lst)))"
   ]
  },
  {
   "cell_type": "code",
   "execution_count": 7,
   "metadata": {},
   "outputs": [
    {
     "name": "stdout",
     "output_type": "stream",
     "text": [
      "Unknown command\n"
     ]
    }
   ],
   "source": [
    "string = input('Enter String: ')\n",
    "\n",
    "\n",
    "match string:\n",
    "    case \"Ping\":\n",
    "        print('Pong!')\n",
    "    case \"Hello\":\n",
    "        print('Hello!')\n",
    "    case unknown_command:\n",
    "        print('Unknown command')"
   ]
  },
  {
   "cell_type": "code",
   "execution_count": 12,
   "metadata": {},
   "outputs": [
    {
     "name": "stdout",
     "output_type": "stream",
     "text": [
      "It's 5!\n"
     ]
    }
   ],
   "source": [
    "number = 5\n",
    "\n",
    "match number:\n",
    "    case 5:\n",
    "        print(\"It's 5!\")\n",
    "    case unknown_command:\n",
    "        print(\"It's not 5!\")"
   ]
  },
  {
   "cell_type": "code",
   "execution_count": 16,
   "metadata": {},
   "outputs": [
    {
     "name": "stdout",
     "output_type": "stream",
     "text": [
      "hi\n"
     ]
    }
   ],
   "source": [
    "a = 'baba'\n",
    "b = 'booey'\n",
    "# print(f'{hex(id(a))} ... {hex(id(b))}')\n",
    "function_dict = {a.__str__():print,b.__str__():print}\n",
    "function_dict[a]('hi')"
   ]
  },
  {
   "cell_type": "code",
   "execution_count": 6,
   "metadata": {},
   "outputs": [
    {
     "name": "stdout",
     "output_type": "stream",
     "text": [
      "hi\n"
     ]
    }
   ],
   "source": [
    "class CustomClass:\n",
    "    def __init__(\n",
    "            self,\n",
    "            name\n",
    "    ):\n",
    "        self.name = name\n",
    "    \n",
    "    def __str__(self):\n",
    "        return self.name\n",
    "    \n",
    "a = CustomClass('nana')\n",
    "b = CustomClass('booboo')\n",
    "\n",
    "# print(f'{hex(id(a))} ... {hex(id(b))}')\n",
    "function_dict = {a.__str__():print,b.__str__():print}\n",
    "function_dict[a.__str__()]('hi')"
   ]
  },
  {
   "cell_type": "code",
   "execution_count": 5,
   "metadata": {},
   "outputs": [
    {
     "name": "stdout",
     "output_type": "stream",
     "text": [
      "256\n",
      "1025\n",
      "1026\n",
      "1024\n",
      "768\n",
      "769\n"
     ]
    }
   ],
   "source": [
    "from pygame.locals import *\n",
    "\n",
    "print(QUIT)\n",
    "\n",
    "print(MOUSEBUTTONDOWN)\n",
    "\n",
    "print(MOUSEBUTTONUP)\n",
    "\n",
    "print(MOUSEMOTION)\n",
    "\n",
    "print(KEYDOWN)\n",
    "\n",
    "print(KEYUP)"
   ]
  }
 ],
 "metadata": {
  "kernelspec": {
   "display_name": "Python 3",
   "language": "python",
   "name": "python3"
  },
  "language_info": {
   "codemirror_mode": {
    "name": "ipython",
    "version": 3
   },
   "file_extension": ".py",
   "mimetype": "text/x-python",
   "name": "python",
   "nbconvert_exporter": "python",
   "pygments_lexer": "ipython3",
   "version": "3.11.2"
  },
  "orig_nbformat": 4
 },
 "nbformat": 4,
 "nbformat_minor": 2
}
